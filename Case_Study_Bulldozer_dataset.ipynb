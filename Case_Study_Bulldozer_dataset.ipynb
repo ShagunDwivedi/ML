{
  "cells": [
    {
      "cell_type": "markdown",
      "metadata": {
        "id": "x6Vpa6IYKqOO"
      },
      "source": [
        "The dataset for this colab is available: [Training and validation set](https://drive.google.com/file/d/1Ji3oeXia4H4dd4bWpxkgTRfECS6Avn1d/view?usp=sharing) and [Test dataset](https://drive.google.com/file/d/1FWyWSnHNb28bit3mj2xrW5KpcvPKglGo/view?usp=sharing). "
      ]
    },
    {
      "cell_type": "markdown",
      "metadata": {
        "id": "AgcnUgJdNktO"
      },
      "source": [
        "The purpose of this study was to forecast the auction sale price of a specific piece of heavy equipment (a bulldozer) based on its usage, equipment type, and configuration. The information comes from auction result postings and covers use and equipment settings.\n",
        "The RMSLE (root mean squared log error) between the actual and forecast auction prices is the competition's evaluation metric.\n",
        "\n",
        "The data page contains links to sample submission files. Files submitted should be formatted as follows:\n",
        "\n",
        "A newly created` header  `SalesID,SalePrice`;\n",
        "has two columns:\n",
        "\n",
        "`SalesID`: The validation set's SalesID in sorted order;\n",
        "`SalePrice`: Your estimated sale price."
      ]
    },
    {
      "cell_type": "markdown",
      "metadata": {
        "id": "cjbeq3WIRfQf"
      },
      "source": [
        "# [Root Mean Squared Log Error (RMSLE)](https://www.kaggle.com/code/carlolepelaars/understanding-the-metric-rmsle)"
      ]
    },
    {
      "cell_type": "markdown",
      "metadata": {
        "id": "MfgWJyEMRnIY"
      },
      "source": [
        "The formula for RMSLE is as follows:\n",
        "\n",
        "$RMSLE=\\sqrt{\\frac{1}{n}\\sum_{i=1}^{n}(log(p_i +1)-log(a_i +1))^2}$\n",
        "\n",
        "where:\n",
        "\n",
        "$n$  is the total number of observations in the (public/private) data set,\n",
        "\n",
        "$p_i$  is the prediction of target, and\n",
        "\n",
        "$a_i$  is the actual target for  $i$ .\n",
        "\n",
        "$log(x)$  is the natural logarithm of  $x  ( log_e(x)$ ."
      ]
    },
    {
      "cell_type": "markdown",
      "metadata": {
        "id": "bxjELoXBOpOq"
      },
      "source": [
        "#Prepare tools"
      ]
    },
    {
      "cell_type": "markdown",
      "metadata": {
        "id": "DBXWt5_u6CDp"
      },
      "source": [
        "##Random Forest Regression\n",
        "\n",
        "Every decision tree has a significant variance, but when we mix all of them in parallel, the final variance is low since each decision tree is perfectly trained on that specific sample data, and so the outcome is dependent on numerous decision trees rather than one. In the case of a classification problem, the majority voting classifier is used to determine the final output. The final output of a regression problem is the mean of all the outputs. Aggregation is the name given to this section.\n",
        "\n",
        "Random Forest is an ensemble technique that can handle both regression and classification tasks by combining many decision trees and a technique known as Bootstrap and Aggregation, or bagging. The core idea is to use numerous decision trees to determine the final output rather than depending on individual decision trees."
      ]
    },
    {
      "cell_type": "code",
      "execution_count": null,
      "metadata": {
        "id": "qBzs7gZBuMS8"
      },
      "outputs": [],
      "source": [
        "# import exploratory data analysis and plotting libraries\n",
        "import numpy as np\n",
        "import pandas as pd\n",
        "import matplotlib.pyplot as plt\n",
        "\n",
        "%matplotlib inline\n",
        "\n",
        "# models from scikit-learn\n",
        "from sklearn.ensemble import RandomForestRegressor\n",
        "\n",
        "# model evaluations\n",
        "from sklearn.model_selection import train_test_split\n",
        "from sklearn.model_selection import RandomizedSearchCV, GridSearchCV"
      ]
    },
    {
      "cell_type": "code",
      "execution_count": null,
      "metadata": {
        "colab": {
          "base_uri": "https://localhost:8080/"
        },
        "id": "esJMGsFrEZTs",
        "outputId": "ba3a150e-8cd3-4309-cd59-63b915879201"
      },
      "outputs": [
        {
          "name": "stdout",
          "output_type": "stream",
          "text": [
            "Mounted at /content/gdrive\n",
            "/content/gdrive\n"
          ]
        }
      ],
      "source": [
        "from google.colab import drive\n",
        "drive.mount('/content/gdrive')\n",
        "%cd /content/gdrive"
      ]
    },
    {
      "cell_type": "markdown",
      "metadata": {
        "id": "12dosoGSOwAG"
      },
      "source": [
        "#Inspect data"
      ]
    },
    {
      "cell_type": "markdown",
      "metadata": {
        "id": "ShvNBef29oQW"
      },
      "source": [
        "#Q1\n",
        "Import the training and validation dataset `TrainAndValid.csv` with `low_memory=False`and priint first 5 rows of the dataset. What is the `auctionerrID` for `SalesID=1139246`? \n",
        "\n"
      ]
    },
    {
      "cell_type": "code",
      "execution_count": 17,
      "metadata": {
        "colab": {
          "base_uri": "https://localhost:8080/",
          "height": 386
        },
        "id": "WgMk3BuXEqmo",
        "outputId": "00e53cc0-97fd-42a1-fa34-5c0f06aef4c4"
      },
      "outputs": [
        {
          "data": {
            "text/html": [
              "\n",
              "  <div id=\"df-820286d4-d999-41ee-959a-96cd85edc3a9\">\n",
              "    <div class=\"colab-df-container\">\n",
              "      <div>\n",
              "<style scoped>\n",
              "    .dataframe tbody tr th:only-of-type {\n",
              "        vertical-align: middle;\n",
              "    }\n",
              "\n",
              "    .dataframe tbody tr th {\n",
              "        vertical-align: top;\n",
              "    }\n",
              "\n",
              "    .dataframe thead th {\n",
              "        text-align: right;\n",
              "    }\n",
              "</style>\n",
              "<table border=\"1\" class=\"dataframe\">\n",
              "  <thead>\n",
              "    <tr style=\"text-align: right;\">\n",
              "      <th></th>\n",
              "      <th>SalesID</th>\n",
              "      <th>SalePrice</th>\n",
              "      <th>MachineID</th>\n",
              "      <th>ModelID</th>\n",
              "      <th>datasource</th>\n",
              "      <th>auctioneerID</th>\n",
              "      <th>YearMade</th>\n",
              "      <th>MachineHoursCurrentMeter</th>\n",
              "      <th>UsageBand</th>\n",
              "      <th>saledate</th>\n",
              "      <th>...</th>\n",
              "      <th>Undercarriage_Pad_Width</th>\n",
              "      <th>Stick_Length</th>\n",
              "      <th>Thumb</th>\n",
              "      <th>Pattern_Changer</th>\n",
              "      <th>Grouser_Type</th>\n",
              "      <th>Backhoe_Mounting</th>\n",
              "      <th>Blade_Type</th>\n",
              "      <th>Travel_Controls</th>\n",
              "      <th>Differential_Type</th>\n",
              "      <th>Steering_Controls</th>\n",
              "    </tr>\n",
              "  </thead>\n",
              "  <tbody>\n",
              "    <tr>\n",
              "      <th>0</th>\n",
              "      <td>1139246</td>\n",
              "      <td>66000.0</td>\n",
              "      <td>999089</td>\n",
              "      <td>3157</td>\n",
              "      <td>121</td>\n",
              "      <td>3.0</td>\n",
              "      <td>2004</td>\n",
              "      <td>68.0</td>\n",
              "      <td>Low</td>\n",
              "      <td>11/16/2006 0:00</td>\n",
              "      <td>...</td>\n",
              "      <td>NaN</td>\n",
              "      <td>NaN</td>\n",
              "      <td>NaN</td>\n",
              "      <td>NaN</td>\n",
              "      <td>NaN</td>\n",
              "      <td>NaN</td>\n",
              "      <td>NaN</td>\n",
              "      <td>NaN</td>\n",
              "      <td>Standard</td>\n",
              "      <td>Conventional</td>\n",
              "    </tr>\n",
              "    <tr>\n",
              "      <th>1</th>\n",
              "      <td>1139248</td>\n",
              "      <td>57000.0</td>\n",
              "      <td>117657</td>\n",
              "      <td>77</td>\n",
              "      <td>121</td>\n",
              "      <td>3.0</td>\n",
              "      <td>1996</td>\n",
              "      <td>4640.0</td>\n",
              "      <td>Low</td>\n",
              "      <td>3/26/2004 0:00</td>\n",
              "      <td>...</td>\n",
              "      <td>NaN</td>\n",
              "      <td>NaN</td>\n",
              "      <td>NaN</td>\n",
              "      <td>NaN</td>\n",
              "      <td>NaN</td>\n",
              "      <td>NaN</td>\n",
              "      <td>NaN</td>\n",
              "      <td>NaN</td>\n",
              "      <td>Standard</td>\n",
              "      <td>Conventional</td>\n",
              "    </tr>\n",
              "    <tr>\n",
              "      <th>2</th>\n",
              "      <td>1139249</td>\n",
              "      <td>10000.0</td>\n",
              "      <td>434808</td>\n",
              "      <td>7009</td>\n",
              "      <td>121</td>\n",
              "      <td>3.0</td>\n",
              "      <td>2001</td>\n",
              "      <td>2838.0</td>\n",
              "      <td>High</td>\n",
              "      <td>2/26/2004 0:00</td>\n",
              "      <td>...</td>\n",
              "      <td>NaN</td>\n",
              "      <td>NaN</td>\n",
              "      <td>NaN</td>\n",
              "      <td>NaN</td>\n",
              "      <td>NaN</td>\n",
              "      <td>NaN</td>\n",
              "      <td>NaN</td>\n",
              "      <td>NaN</td>\n",
              "      <td>NaN</td>\n",
              "      <td>NaN</td>\n",
              "    </tr>\n",
              "    <tr>\n",
              "      <th>3</th>\n",
              "      <td>1139251</td>\n",
              "      <td>38500.0</td>\n",
              "      <td>1026470</td>\n",
              "      <td>332</td>\n",
              "      <td>121</td>\n",
              "      <td>3.0</td>\n",
              "      <td>2001</td>\n",
              "      <td>3486.0</td>\n",
              "      <td>High</td>\n",
              "      <td>5/19/2011 0:00</td>\n",
              "      <td>...</td>\n",
              "      <td>NaN</td>\n",
              "      <td>NaN</td>\n",
              "      <td>NaN</td>\n",
              "      <td>NaN</td>\n",
              "      <td>NaN</td>\n",
              "      <td>NaN</td>\n",
              "      <td>NaN</td>\n",
              "      <td>NaN</td>\n",
              "      <td>NaN</td>\n",
              "      <td>NaN</td>\n",
              "    </tr>\n",
              "    <tr>\n",
              "      <th>4</th>\n",
              "      <td>1139253</td>\n",
              "      <td>11000.0</td>\n",
              "      <td>1057373</td>\n",
              "      <td>17311</td>\n",
              "      <td>121</td>\n",
              "      <td>3.0</td>\n",
              "      <td>2007</td>\n",
              "      <td>722.0</td>\n",
              "      <td>Medium</td>\n",
              "      <td>7/23/2009 0:00</td>\n",
              "      <td>...</td>\n",
              "      <td>NaN</td>\n",
              "      <td>NaN</td>\n",
              "      <td>NaN</td>\n",
              "      <td>NaN</td>\n",
              "      <td>NaN</td>\n",
              "      <td>NaN</td>\n",
              "      <td>NaN</td>\n",
              "      <td>NaN</td>\n",
              "      <td>NaN</td>\n",
              "      <td>NaN</td>\n",
              "    </tr>\n",
              "  </tbody>\n",
              "</table>\n",
              "<p>5 rows × 53 columns</p>\n",
              "</div>\n",
              "      <button class=\"colab-df-convert\" onclick=\"convertToInteractive('df-820286d4-d999-41ee-959a-96cd85edc3a9')\"\n",
              "              title=\"Convert this dataframe to an interactive table.\"\n",
              "              style=\"display:none;\">\n",
              "        \n",
              "  <svg xmlns=\"http://www.w3.org/2000/svg\" height=\"24px\"viewBox=\"0 0 24 24\"\n",
              "       width=\"24px\">\n",
              "    <path d=\"M0 0h24v24H0V0z\" fill=\"none\"/>\n",
              "    <path d=\"M18.56 5.44l.94 2.06.94-2.06 2.06-.94-2.06-.94-.94-2.06-.94 2.06-2.06.94zm-11 1L8.5 8.5l.94-2.06 2.06-.94-2.06-.94L8.5 2.5l-.94 2.06-2.06.94zm10 10l.94 2.06.94-2.06 2.06-.94-2.06-.94-.94-2.06-.94 2.06-2.06.94z\"/><path d=\"M17.41 7.96l-1.37-1.37c-.4-.4-.92-.59-1.43-.59-.52 0-1.04.2-1.43.59L10.3 9.45l-7.72 7.72c-.78.78-.78 2.05 0 2.83L4 21.41c.39.39.9.59 1.41.59.51 0 1.02-.2 1.41-.59l7.78-7.78 2.81-2.81c.8-.78.8-2.07 0-2.86zM5.41 20L4 18.59l7.72-7.72 1.47 1.35L5.41 20z\"/>\n",
              "  </svg>\n",
              "      </button>\n",
              "      \n",
              "  <style>\n",
              "    .colab-df-container {\n",
              "      display:flex;\n",
              "      flex-wrap:wrap;\n",
              "      gap: 12px;\n",
              "    }\n",
              "\n",
              "    .colab-df-convert {\n",
              "      background-color: #E8F0FE;\n",
              "      border: none;\n",
              "      border-radius: 50%;\n",
              "      cursor: pointer;\n",
              "      display: none;\n",
              "      fill: #1967D2;\n",
              "      height: 32px;\n",
              "      padding: 0 0 0 0;\n",
              "      width: 32px;\n",
              "    }\n",
              "\n",
              "    .colab-df-convert:hover {\n",
              "      background-color: #E2EBFA;\n",
              "      box-shadow: 0px 1px 2px rgba(60, 64, 67, 0.3), 0px 1px 3px 1px rgba(60, 64, 67, 0.15);\n",
              "      fill: #174EA6;\n",
              "    }\n",
              "\n",
              "    [theme=dark] .colab-df-convert {\n",
              "      background-color: #3B4455;\n",
              "      fill: #D2E3FC;\n",
              "    }\n",
              "\n",
              "    [theme=dark] .colab-df-convert:hover {\n",
              "      background-color: #434B5C;\n",
              "      box-shadow: 0px 1px 3px 1px rgba(0, 0, 0, 0.15);\n",
              "      filter: drop-shadow(0px 1px 2px rgba(0, 0, 0, 0.3));\n",
              "      fill: #FFFFFF;\n",
              "    }\n",
              "  </style>\n",
              "\n",
              "      <script>\n",
              "        const buttonEl =\n",
              "          document.querySelector('#df-820286d4-d999-41ee-959a-96cd85edc3a9 button.colab-df-convert');\n",
              "        buttonEl.style.display =\n",
              "          google.colab.kernel.accessAllowed ? 'block' : 'none';\n",
              "\n",
              "        async function convertToInteractive(key) {\n",
              "          const element = document.querySelector('#df-820286d4-d999-41ee-959a-96cd85edc3a9');\n",
              "          const dataTable =\n",
              "            await google.colab.kernel.invokeFunction('convertToInteractive',\n",
              "                                                     [key], {});\n",
              "          if (!dataTable) return;\n",
              "\n",
              "          const docLinkHtml = 'Like what you see? Visit the ' +\n",
              "            '<a target=\"_blank\" href=https://colab.research.google.com/notebooks/data_table.ipynb>data table notebook</a>'\n",
              "            + ' to learn more about interactive tables.';\n",
              "          element.innerHTML = '';\n",
              "          dataTable['output_type'] = 'display_data';\n",
              "          await google.colab.output.renderOutput(dataTable, element);\n",
              "          const docLink = document.createElement('div');\n",
              "          docLink.innerHTML = docLinkHtml;\n",
              "          element.appendChild(docLink);\n",
              "        }\n",
              "      </script>\n",
              "    </div>\n",
              "  </div>\n",
              "  "
            ],
            "text/plain": [
              "   SalesID  SalePrice  MachineID  ModelID  datasource  auctioneerID  YearMade  \\\n",
              "0  1139246    66000.0     999089     3157         121           3.0      2004   \n",
              "1  1139248    57000.0     117657       77         121           3.0      1996   \n",
              "2  1139249    10000.0     434808     7009         121           3.0      2001   \n",
              "3  1139251    38500.0    1026470      332         121           3.0      2001   \n",
              "4  1139253    11000.0    1057373    17311         121           3.0      2007   \n",
              "\n",
              "   MachineHoursCurrentMeter UsageBand         saledate  ...  \\\n",
              "0                      68.0       Low  11/16/2006 0:00  ...   \n",
              "1                    4640.0       Low   3/26/2004 0:00  ...   \n",
              "2                    2838.0      High   2/26/2004 0:00  ...   \n",
              "3                    3486.0      High   5/19/2011 0:00  ...   \n",
              "4                     722.0    Medium   7/23/2009 0:00  ...   \n",
              "\n",
              "  Undercarriage_Pad_Width Stick_Length Thumb Pattern_Changer Grouser_Type  \\\n",
              "0                     NaN          NaN   NaN             NaN          NaN   \n",
              "1                     NaN          NaN   NaN             NaN          NaN   \n",
              "2                     NaN          NaN   NaN             NaN          NaN   \n",
              "3                     NaN          NaN   NaN             NaN          NaN   \n",
              "4                     NaN          NaN   NaN             NaN          NaN   \n",
              "\n",
              "  Backhoe_Mounting Blade_Type Travel_Controls Differential_Type  \\\n",
              "0              NaN        NaN             NaN          Standard   \n",
              "1              NaN        NaN             NaN          Standard   \n",
              "2              NaN        NaN             NaN               NaN   \n",
              "3              NaN        NaN             NaN               NaN   \n",
              "4              NaN        NaN             NaN               NaN   \n",
              "\n",
              "  Steering_Controls  \n",
              "0      Conventional  \n",
              "1      Conventional  \n",
              "2               NaN  \n",
              "3               NaN  \n",
              "4               NaN  \n",
              "\n",
              "[5 rows x 53 columns]"
            ]
          },
          "execution_count": 17,
          "metadata": {},
          "output_type": "execute_result"
        }
      ],
      "source": [
        "df = pd.read_csv('/content/gdrive/MyDrive/TrainAndValid.csv', low_memory=False)\n",
        "df.head()"
      ]
    },
    {
      "cell_type": "code",
      "execution_count": null,
      "metadata": {
        "colab": {
          "base_uri": "https://localhost:8080/"
        },
        "id": "c8AvvMmhEESA",
        "outputId": "5e77b595-608a-4994-d7e9-cb0b4057b8c4"
      },
      "outputs": [
        {
          "data": {
            "text/plain": [
              "0    3.0\n",
              "Name: auctioneerID, dtype: float64"
            ]
          },
          "execution_count": 4,
          "metadata": {},
          "output_type": "execute_result"
        }
      ],
      "source": [
        "df[df.SalesID == 1139246].auctioneerID"
      ]
    },
    {
      "cell_type": "markdown",
      "metadata": {
        "id": "CNZojXK7_OqI"
      },
      "source": [
        "#Q2\n",
        "How many non-null values are there in the state column?\n",
        "\n"
      ]
    },
    {
      "cell_type": "code",
      "execution_count": 15,
      "metadata": {
        "colab": {
          "base_uri": "https://localhost:8080/"
        },
        "id": "wVTq-wfhGNfD",
        "outputId": "726114f0-a637-477d-9e72-19774905eaa5"
      },
      "outputs": [
        {
          "data": {
            "text/plain": [
              "412698"
            ]
          },
          "execution_count": 15,
          "metadata": {},
          "output_type": "execute_result"
        }
      ],
      "source": [
        "df['state'].notnull().sum()"
      ]
    },
    {
      "cell_type": "markdown",
      "metadata": {
        "id": "GEKbviCqGeOO"
      },
      "source": [
        "# Q3\n",
        "\n",
        "Which of the following columns have missing values?\n",
        "\n",
        "- MachineHoursCurrentMeter\n",
        "\n",
        "- fiModelDesc\n",
        "\n",
        "- fiBaseModel\n",
        "\n",
        "- ProductSize"
      ]
    },
    {
      "cell_type": "code",
      "execution_count": null,
      "metadata": {
        "colab": {
          "base_uri": "https://localhost:8080/"
        },
        "id": "eT3nu4RNHYc-",
        "outputId": "b88f3e60-9065-427d-a4f4-b8c835cd49c3"
      },
      "outputs": [
        {
          "data": {
            "text/plain": [
              "MachineHoursCurrentMeter    265194\n",
              "fiModelDesc                      0\n",
              "fiBaseModel                      0\n",
              "ProductSize                 216605\n",
              "dtype: int64"
            ]
          },
          "execution_count": 6,
          "metadata": {},
          "output_type": "execute_result"
        }
      ],
      "source": [
        "df[['MachineHoursCurrentMeter','fiModelDesc','fiBaseModel','ProductSize']].isna().sum()"
      ]
    },
    {
      "cell_type": "markdown",
      "metadata": {
        "id": "istlKSlJI2ZL"
      },
      "source": [
        "# Q4\n",
        "\n",
        "How many columns are there in the TrainAndValid dataset?"
      ]
    },
    {
      "cell_type": "code",
      "execution_count": null,
      "metadata": {
        "colab": {
          "base_uri": "https://localhost:8080/"
        },
        "id": "BmzH0y9BI6JL",
        "outputId": "6784fb1b-85e3-4777-f05b-f47a14cba7b0"
      },
      "outputs": [
        {
          "data": {
            "text/plain": [
              "53"
            ]
          },
          "execution_count": 7,
          "metadata": {},
          "output_type": "execute_result"
        }
      ],
      "source": [
        "len(df.columns)"
      ]
    },
    {
      "cell_type": "markdown",
      "metadata": {
        "id": "1PTDH_NDI_mp"
      },
      "source": [
        "# Q5\n",
        "\n",
        "Can you sort the dataframe in ascending order of saledate with inplace=True? Which of the following options represent the saledate of the salesID 1646770 ?\n",
        "\n",
        "- 1989-01-17\n",
        "\n",
        "- 1989-01-31\n",
        "\n",
        "- 1992-03-25\n",
        "\n",
        "- 2022-11-11"
      ]
    },
    {
      "cell_type": "code",
      "execution_count": null,
      "metadata": {
        "colab": {
          "base_uri": "https://localhost:8080/"
        },
        "id": "4bhJCSOCJCVY",
        "outputId": "8e34888d-7c7b-4b6b-f2cb-d5a718bd80a6"
      },
      "outputs": [
        {
          "data": {
            "text/plain": [
              "205615    1/17/1989 0:00\n",
              "Name: saledate, dtype: object"
            ]
          },
          "execution_count": 8,
          "metadata": {},
          "output_type": "execute_result"
        }
      ],
      "source": [
        "df.sort_values(by='saledate', inplace=True)\n",
        "df[df.SalesID == 1646770].saledate"
      ]
    },
    {
      "cell_type": "markdown",
      "metadata": {
        "id": "SGwWNFreKcLM"
      },
      "source": [
        "# Q6\n",
        "\n",
        "Make a copy of the dataset. What is the year of making (YearMade) of the product with MachineID 1194089?"
      ]
    },
    {
      "cell_type": "code",
      "execution_count": null,
      "metadata": {
        "colab": {
          "base_uri": "https://localhost:8080/"
        },
        "id": "CiLecOnJKe9c",
        "outputId": "94c2c04f-de1f-451e-f77e-7dd0c876f5a2"
      },
      "outputs": [
        {
          "data": {
            "text/plain": [
              "274835    1980\n",
              "Name: YearMade, dtype: int64"
            ]
          },
          "execution_count": 9,
          "metadata": {},
          "output_type": "execute_result"
        }
      ],
      "source": [
        "df_new = df.copy()\n",
        "\n",
        "df_new[df_new.MachineID == 1194089].YearMade"
      ]
    },
    {
      "cell_type": "markdown",
      "metadata": {
        "id": "UqrdT2GGKxbq"
      },
      "source": [
        "# Q7\n",
        "\n",
        "Separate the saledate in saleYear,saleMonth,saleDay,saleDayOfWeek and saleDayOfYear and saledate column. Which numeric columns from the following options have null values?\n",
        "\n",
        "- saleDayOfWeek\n",
        "\n",
        "- SalePrice\n",
        "\n",
        "- auctioneerID\n",
        "\n",
        "- MachineHoursCurrentMeter"
      ]
    },
    {
      "cell_type": "code",
      "execution_count": null,
      "metadata": {
        "id": "r-p3EScPK3a9"
      },
      "outputs": [],
      "source": [
        "df_new.saledate = pd.to_datetime(df_new.saledate)\n",
        "\n",
        "df_new['saleDay'] = df_new['saledate'].dt.day\n",
        "df_new['saleMonth'] = df_new['saledate'].dt.month\n",
        "df_new['saleYear'] = df_new['saledate'].dt.year\n",
        "df_new['saleDayOfWeek'] = df_new['saledate'].dt.day_of_week\n",
        "df_new['saleDayOfYear'] = df_new['saledate'].dt.day_of_year"
      ]
    },
    {
      "cell_type": "code",
      "execution_count": null,
      "metadata": {
        "colab": {
          "base_uri": "https://localhost:8080/"
        },
        "id": "gkpRIawtM4pe",
        "outputId": "eb26cc8c-1d17-4d00-f539-d9d1bca1c33f"
      },
      "outputs": [
        {
          "data": {
            "text/plain": [
              "saleDayOfWeek                    0\n",
              "SalePrice                        0\n",
              "auctioneerID                 20136\n",
              "MachineHoursCurrentMeter    265194\n",
              "dtype: int64"
            ]
          },
          "execution_count": 11,
          "metadata": {},
          "output_type": "execute_result"
        }
      ],
      "source": [
        "df_new[['saleDayOfWeek','SalePrice','auctioneerID','MachineHoursCurrentMeter']].isna().sum()"
      ]
    },
    {
      "cell_type": "markdown",
      "metadata": {
        "id": "M1gSVzGUNbB_"
      },
      "source": [
        "# Q8 \n",
        "\n",
        "How many values are missing in the column auctioneerID_is_missing?"
      ]
    },
    {
      "cell_type": "code",
      "execution_count": null,
      "metadata": {
        "colab": {
          "base_uri": "https://localhost:8080/"
        },
        "id": "ybtjW7NMNdq_",
        "outputId": "c05d390e-f017-455f-9ec0-6b499aa7fdf7"
      },
      "outputs": [
        {
          "data": {
            "text/plain": [
              "20136"
            ]
          },
          "execution_count": 12,
          "metadata": {},
          "output_type": "execute_result"
        }
      ],
      "source": [
        "df_new.auctioneerID.isna().sum()"
      ]
    },
    {
      "cell_type": "markdown",
      "metadata": {
        "id": "ld63rfyiN0Lj"
      },
      "source": [
        "# Q9\n",
        "\n",
        "Convert the state and Usageband to numbers. What is the datatype?\n",
        "\n",
        "\n",
        "[Hint: use pd.Categorical(df_tmp[\"feature_name\"]).codes]"
      ]
    },
    {
      "cell_type": "code",
      "execution_count": null,
      "metadata": {
        "colab": {
          "base_uri": "https://localhost:8080/"
        },
        "id": "40AKz3yhN3Jj",
        "outputId": "58f38fb8-6202-47b3-ae2d-a73dc6bbfa8f"
      },
      "outputs": [
        {
          "data": {
            "text/plain": [
              "dtype('int8')"
            ]
          },
          "execution_count": 13,
          "metadata": {},
          "output_type": "execute_result"
        }
      ],
      "source": [
        "df_new['state'] = pd.Categorical(df_new['state']).codes\n",
        "df_new['UsageBand'] = pd.Categorical(df_new['UsageBand']).codes\n",
        "\n",
        "df_new.state.dtype"
      ]
    },
    {
      "cell_type": "markdown",
      "metadata": {
        "id": "iwWBKbfcOeN2"
      },
      "source": [
        "# Q10\n",
        "\n",
        "Add binary columns (with label+\"_is_missing\") to indicate whether sample had missing value.Turn all categories into numbers.All null values will be turned into \"-1\" so add +1 to all numbers. What is the value of Differential_Type_is_missing for SalesID=1646770?"
      ]
    },
    {
      "cell_type": "code",
      "execution_count": null,
      "metadata": {
        "id": "SO0ZvbzDOZpX"
      },
      "outputs": [],
      "source": []
    }
  ],
  "metadata": {
    "colab": {
      "provenance": []
    },
    "gpuClass": "standard",
    "kernelspec": {
      "display_name": "Python 3",
      "name": "python3"
    },
    "language_info": {
      "name": "python"
    }
  },
  "nbformat": 4,
  "nbformat_minor": 0
}
