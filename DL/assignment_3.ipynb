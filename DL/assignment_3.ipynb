{
 "cells": [
  {
   "cell_type": "code",
   "execution_count": 1,
   "metadata": {},
   "outputs": [],
   "source": [
    "import numpy as np"
   ]
  },
  {
   "cell_type": "code",
   "execution_count": 2,
   "metadata": {},
   "outputs": [],
   "source": [
    "files = np.load('./parameters.npz')\n",
    "W1 = files.get('W1')\n",
    "W2 = files.get('W2')\n",
    "W3 = files.get('W3')\n",
    "b1 = files.get('b1')\n",
    "b2 = files.get('b2')\n",
    "b3 = files.get('b3')\n",
    "files.close()\n",
    "\n",
    "x = np.array([[1],[0],[1]])\n",
    "y = np.array([[0],[0],[1]])\n",
    "\n",
    "W = [W1, W2, W3]\n",
    "b = [b1, b2, b3]"
   ]
  },
  {
   "cell_type": "code",
   "execution_count": 3,
   "metadata": {},
   "outputs": [
    {
     "data": {
      "text/plain": [
       "36"
      ]
     },
     "execution_count": 3,
     "metadata": {},
     "output_type": "execute_result"
    }
   ],
   "source": [
    "def num_of_params(hs):\n",
    "    num_bs = sum(hs[1:])\n",
    "    num_wts = hs[0] * hs[1]\n",
    "    for i in range(1,len(hs)-1):\n",
    "        num_wts += hs[i] * hs[i+1]\n",
    "    return(num_wts + num_bs)\n",
    "\n",
    "num_of_params([3,3,3,3])"
   ]
  },
  {
   "cell_type": "code",
   "execution_count": 5,
   "metadata": {},
   "outputs": [],
   "source": [
    "def g(x):\n",
    "    return(1/(1+np.exp(-x)))\n",
    "\n",
    "def g_hash(x):\n",
    "    g_ = g(x)\n",
    "    return(g_*(1-g_))\n",
    "\n",
    "def O(x):\n",
    "    return np.exp(x)/sum(np.exp(x))\n",
    "\n",
    "def loss_cross_entropy(y, y_hat):\n",
    "    return sum(y*(-np.log(y_hat)))"
   ]
  },
  {
   "cell_type": "code",
   "execution_count": 6,
   "metadata": {},
   "outputs": [],
   "source": [
    "def forw_propagate(W,b,x):\n",
    "    a = np.zeros((len(b),len(b),1))\n",
    "    h = np.zeros((len(b),len(b),1))\n",
    "    h[0] = x\n",
    "    for i in range(len(b)):\n",
    "        a[i] = np.dot(W[i],h[i-1] if i!=0 else x)+b[i]\n",
    "        h[i] = g(a[i])\n",
    "    y_hat = O(a[-1])\n",
    "    return(a,h,y_hat)\n",
    "\n",
    "a,h,y_hat = forw_propagate(W,b,x)"
   ]
  },
  {
   "cell_type": "code",
   "execution_count": 7,
   "metadata": {},
   "outputs": [
    {
     "data": {
      "text/plain": [
       "5.44766562448759"
      ]
     },
     "execution_count": 7,
     "metadata": {},
     "output_type": "execute_result"
    }
   ],
   "source": [
    "a[0].sum()"
   ]
  },
  {
   "cell_type": "code",
   "execution_count": 8,
   "metadata": {},
   "outputs": [
    {
     "data": {
      "text/plain": [
       "2.5749524957231924"
      ]
     },
     "execution_count": 8,
     "metadata": {},
     "output_type": "execute_result"
    }
   ],
   "source": [
    "h[0].sum()"
   ]
  },
  {
   "cell_type": "code",
   "execution_count": 9,
   "metadata": {},
   "outputs": [
    {
     "data": {
      "text/plain": [
       "([6.460166773282593, 2.63139309587371, 4.874920988265704], array([0.85637856]))"
      ]
     },
     "execution_count": 9,
     "metadata": {},
     "output_type": "execute_result"
    }
   ],
   "source": [
    "[a[1].sum(),h[1].sum(),a[2].sum()], loss_cross_entropy(y, y_hat)"
   ]
  },
  {
   "cell_type": "code",
   "execution_count": 10,
   "metadata": {},
   "outputs": [
    {
     "data": {
      "text/plain": [
       "array([[ 0.23691422],\n",
       "       [ 0.33838847],\n",
       "       [-0.57530268]])"
      ]
     },
     "execution_count": 10,
     "metadata": {},
     "output_type": "execute_result"
    }
   ],
   "source": [
    "-(y - y_hat)"
   ]
  },
  {
   "cell_type": "code",
   "execution_count": 11,
   "metadata": {},
   "outputs": [
    {
     "name": "stdout",
     "output_type": "stream",
     "text": [
      "[[ 0.01838198]\n",
      " [-0.01997644]\n",
      " [-0.0038401 ]]\n"
     ]
    }
   ],
   "source": [
    "def back_prop(W,b,y,y_hat,a,h):\n",
    "    da = np.zeros((len(W),len(W),1))\n",
    "    dW = np.zeros(((len(W),len(W),len(W))))\n",
    "    db = np.zeros((len(W),len(W),1))\n",
    "    dh = np.zeros((len(W),len(W),1))\n",
    "\n",
    "    for i in range(len(W)-1,-1,-1):\n",
    "        da[i] = -(y-y_hat) if i==len(W)-1 else dh[i]*g_hash(np.array(a[i]))\n",
    "        dW[i] = da[i] * h[i-1].T\n",
    "        db[i] = da[i]\n",
    "        dh[i-1] = np.dot(W[i].T,da[i]) \n",
    "    print(db[1])\n",
    "    W = W - dW\n",
    "    b = b - db\n",
    "    return(W, b)\n",
    "\n",
    "W,b = back_prop(W,b,y,y_hat,a,h)\n",
    "a,h,y_hat = forw_propagate(W,b,x)"
   ]
  },
  {
   "cell_type": "code",
   "execution_count": 12,
   "metadata": {},
   "outputs": [
    {
     "data": {
      "text/plain": [
       "array([0.07253369])"
      ]
     },
     "execution_count": 12,
     "metadata": {},
     "output_type": "execute_result"
    }
   ],
   "source": [
    "loss_cross_entropy(y, y_hat)"
   ]
  }
 ],
 "metadata": {
  "interpreter": {
   "hash": "8c3d4d9970fc5c09c50d9318a9c7fbf4d0159e4b28833276f5678ee22bded273"
  },
  "kernelspec": {
   "display_name": "Python 3.10.5 64-bit",
   "language": "python",
   "name": "python3"
  },
  "language_info": {
   "codemirror_mode": {
    "name": "ipython",
    "version": 3
   },
   "file_extension": ".py",
   "mimetype": "text/x-python",
   "name": "python",
   "nbconvert_exporter": "python",
   "pygments_lexer": "ipython3",
   "version": "3.10.5"
  },
  "orig_nbformat": 4
 },
 "nbformat": 4,
 "nbformat_minor": 2
}
