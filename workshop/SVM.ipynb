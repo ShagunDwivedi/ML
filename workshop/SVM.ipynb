{
  "cells": [
    {
      "cell_type": "markdown",
      "metadata": {
        "id": "Kwt8A5yBXwAW"
      },
      "source": [
        "# Support Vector Machines\n",
        "\n",
        "We wil implement both hard-margin SVMs and soft-margin SVMs from scratch on a toy dataset. Apart from `NumPy`, we would need to take the help of `SciPy` for solving the quadratic programming problem."
      ]
    },
    {
      "cell_type": "markdown",
      "metadata": {
        "id": "49WrewU6X1aR"
      },
      "source": [
        "## Hard-Margin SVM"
      ]
    },
    {
      "cell_type": "code",
      "execution_count": 42,
      "metadata": {
        "id": "1bIDOxRZWRP9"
      },
      "outputs": [],
      "source": [
        "import numpy as np\n",
        "import matplotlib.pyplot as plt\n",
        "from scipy.optimize import minimize, Bounds"
      ]
    },
    {
      "cell_type": "code",
      "execution_count": 81,
      "metadata": {
        "id": "CO6QjhLnWYX3"
      },
      "outputs": [],
      "source": [
        "#### DATA: DO NOT EDIT THIS CELL ####\n",
        "X = np.array([[1, -3], [1, 0], [4, 1], [3, 7], [0, -2],\n",
        "             [-1, -6], [2, 5], [1, 2], [0, -1], [-1, -4],\n",
        "             [0, 7], [1, 5], [-4, 4], [2, 9], [-2, 2],\n",
        "             [-2, 0], [-3, -2], [-2, -4], [3, 10], [-3, -8]]).T\n",
        "y = np.array([1, 1, 1, 1, 1, \n",
        "             1, 1, 1, 1, 1,\n",
        "             -1, -1, -1, -1, -1, \n",
        "             -1, -1, -1, -1, -1])"
      ]
    },
    {
      "cell_type": "markdown",
      "metadata": {
        "id": "nhWvMF3QYQdx"
      },
      "source": [
        "### Understand the data\n",
        "\n",
        "$\\mathbf{X}$ is a data-matrix of shape $(d, n)$. $\\mathbf{y}$ is a vector of labels of size $(n, )$. Specifically, look at the shapes of the arrays involved."
      ]
    },
    {
      "cell_type": "code",
      "execution_count": 16,
      "metadata": {
        "colab": {
          "base_uri": "https://localhost:8080/"
        },
        "id": "EOO0y6UaapAa",
        "outputId": "652a4466-681b-477d-92a8-5db3373cf69d"
      },
      "outputs": [
        {
          "data": {
            "text/plain": [
              "((2, 20), (20,))"
            ]
          },
          "execution_count": 16,
          "metadata": {},
          "output_type": "execute_result"
        }
      ],
      "source": [
        "d, n = X.shape\n",
        "X.shape, y.shape"
      ]
    },
    {
      "cell_type": "markdown",
      "metadata": {
        "id": "aI0L-xJ4aj-d"
      },
      "source": [
        "### Visualize the dataset\n",
        "\n",
        "Visualize the dataset given to you using a scatter plot. Colour points which belong to class $+1$ $\\color{green}{\\text{green}}$ and those that belong to $-1$ $\\color{red}{\\text{red}}$. Inspect the data visually and determine its linear separability."
      ]
    },
    {
      "cell_type": "code",
      "execution_count": 82,
      "metadata": {
        "colab": {
          "base_uri": "https://localhost:8080/",
          "height": 265
        },
        "id": "kbjQsLMSXuDc",
        "outputId": "0d71d347-7630-4bee-d014-84aa5d630010"
      },
      "outputs": [
        {
          "data": {
            "image/png": "[encoded data removed]",
            "text/plain": [
              "<Figure size 432x288 with 1 Axes>"
            ]
          },
          "metadata": {
            "needs_background": "light"
          },
          "output_type": "display_data"
        }
      ],
      "source": [
        "plt.scatter(X[0][y == -1],X[1][y == -1],color='r');\n",
        "plt.scatter(X[0][y == 1],X[1][y == 1], color='g');\n",
        "\n",
        "# Looks linearly separable to me"
      ]
    },
    {
      "cell_type": "markdown",
      "metadata": {
        "id": "V4fH-yQH8IYX"
      },
      "source": [
        "### Linear Separability\n",
        "\n",
        "Is there another way to determine linear separability?"
      ]
    },
    {
      "cell_type": "code",
      "execution_count": 83,
      "metadata": {
        "colab": {
          "base_uri": "https://localhost:8080/"
        },
        "id": "w-Ifz3QH56DI",
        "outputId": "5924b986-34c9-4f12-8e91-5d1c4e38ab9b"
      },
      "outputs": [
        {
          "data": {
            "text/plain": [
              "array([ 6., -2.])"
            ]
          },
          "execution_count": 83,
          "metadata": {},
          "output_type": "execute_result"
        }
      ],
      "source": [
        "w = np.zeros(d)\n",
        "i = 0\n",
        "while not np.all(w @ X * y > 0):\n",
        "  if(X[:,i] @ w * y[i] <= 0):\n",
        "    w +=  X[:,i] * y[i]\n",
        "  i += 1\n",
        "w\n",
        "\n",
        "# simple perceptron algorithm\n",
        "# if data not linearly separable algo would keep iterating.\n",
        "# hence, data is separable"
      ]
    },
    {
      "cell_type": "markdown",
      "metadata": {
        "id": "uDOb9EmzZwWG"
      },
      "source": [
        "### Computing the Dual Objective\n",
        "\n",
        "We shall follow a step-by-step approach to computing the dual objective function."
      ]
    },
    {
      "cell_type": "markdown",
      "metadata": {
        "id": "jMdpPLXPo3Fi"
      },
      "source": [
        "#### Step-1\n",
        "\n",
        "Compute the object $\\mathbf{Y}$ that appears in the dual problem."
      ]
    },
    {
      "cell_type": "code",
      "execution_count": 84,
      "metadata": {
        "colab": {
          "base_uri": "https://localhost:8080/"
        },
        "id": "EzgoThG4aPej",
        "outputId": "02ade555-77de-4ae7-cc85-28d670c6a21e"
      },
      "outputs": [
        {
          "data": {
            "text/plain": [
              "(20, 20)"
            ]
          },
          "execution_count": 84,
          "metadata": {},
          "output_type": "execute_result"
        }
      ],
      "source": [
        "Y = np.diag(y)\n",
        "Y.shape"
      ]
    },
    {
      "cell_type": "markdown",
      "metadata": {
        "id": "Zbbv04-qa_c3"
      },
      "source": [
        "#### Step-2\n",
        "\n",
        "Let $\\boldsymbol{\\alpha}$ be the dual variable. The dual objective is of the form:\n",
        "\n",
        "$$\n",
        "f(\\boldsymbol{\\alpha}) = \\boldsymbol{\\alpha}^T \\mathbf{1} - \\cfrac{1}{2} \\cdot \\boldsymbol{\\alpha}^T \\mathbf{Q} \\boldsymbol{\\alpha}\n",
        "$$\n",
        "\n",
        "\n",
        "\n",
        "Compute the matrix $\\mathbf{Q}$ for this problem."
      ]
    },
    {
      "cell_type": "code",
      "execution_count": 85,
      "metadata": {
        "colab": {
          "base_uri": "https://localhost:8080/"
        },
        "id": "p_AsPP_nb48r",
        "outputId": "2375399b-72ed-4888-970a-4ab90c4e5596"
      },
      "outputs": [
        {
          "data": {
            "text/plain": [
              "(20, 20)"
            ]
          },
          "execution_count": 85,
          "metadata": {},
          "output_type": "execute_result"
        }
      ],
      "source": [
        "# Q because Quadratic Programming Problem\n",
        "\n",
        "Q = Y.T @ X.T @ X @ Y\n",
        "Q.shape"
      ]
    },
    {
      "cell_type": "markdown",
      "metadata": {
        "id": "O4QlhIsWyxYe"
      },
      "source": [
        "#### Step-3\n",
        "\n",
        "Since `SciPy`'s optimization routines take the form of minimizing a function, we will recast $f$ as follows:\n",
        "\n",
        "$$\n",
        "f(\\boldsymbol{\\alpha}) =  \\cfrac{1}{2} \\cdot \\boldsymbol{\\alpha}^T \\mathbf{Q} \\boldsymbol{\\alpha} - \\boldsymbol{\\alpha}^T \\mathbf{1}\n",
        "$$\n",
        "\n",
        "We now have to solve :\n",
        "\n",
        "$$\n",
        "\\min \\limits_{\\boldsymbol{\\alpha} \\geq 0} \\quad f(\\boldsymbol{\\alpha})\n",
        "$$\n",
        "\n",
        "Note that $\\max$ changes to $\\min$ since we changed the sign of the objective function."
      ]
    },
    {
      "cell_type": "code",
      "execution_count": 86,
      "metadata": {
        "id": "TXGgoTZ4z63Z"
      },
      "outputs": [],
      "source": [
        "def f(alpha):\n",
        "  return(0.5 * alpha @ Q @ alpha - alpha.sum())"
      ]
    },
    {
      "cell_type": "markdown",
      "metadata": {
        "id": "Plv87Si05V5G"
      },
      "source": [
        "### Optimize\n",
        "\n",
        "Finally, we have most of the ingredients to solve the dual problem:\n",
        "\n",
        "$$\n",
        "\\min \\limits_{\\boldsymbol{\\alpha} \\geq 0} \\quad \\cfrac{1}{2} \\cdot \\boldsymbol{\\alpha}^T \\mathbf{Q} \\boldsymbol{\\alpha} - \\boldsymbol{\\alpha}^T \\mathbf{1}\n",
        "$$\n",
        "\n",
        "Find the optimal value, $\\boldsymbol{\\alpha^{*}}$."
      ]
    },
    {
      "cell_type": "code",
      "execution_count": 87,
      "metadata": {
        "colab": {
          "base_uri": "https://localhost:8080/"
        },
        "id": "y_Wcmwy3grQ7",
        "outputId": "0cf70987-92d6-455b-b623-cb9668a841ab"
      },
      "outputs": [
        {
          "data": {
            "text/plain": [
              "array([0.        , 0.        , 0.        , 0.        , 0.        ,\n",
              "       0.        , 1.64285525, 1.65714065, 1.67142753, 1.68571355,\n",
              "       0.        , 0.        , 0.        , 0.        , 0.        ,\n",
              "       0.        , 0.        , 0.        , 1.71428422, 1.62856756])"
            ]
          },
          "execution_count": 87,
          "metadata": {},
          "output_type": "execute_result"
        }
      ],
      "source": [
        "alpha_init = np.zeros(n)        # n = X.shape[1]\n",
        "res = minimize(f, alpha_init,\n",
        "               bounds=Bounds(0, np.inf))\n",
        "# res.x is the argmin  of the minimization problem\n",
        "alpha_opt = res['x']\n",
        "alpha_opt"
      ]
    },
    {
      "cell_type": "markdown",
      "metadata": {
        "id": "hrruRySrPPJL"
      },
      "source": [
        "### Support vectors\n",
        "\n",
        "Find all the support vectors."
      ]
    },
    {
      "cell_type": "code",
      "execution_count": 88,
      "metadata": {
        "colab": {
          "base_uri": "https://localhost:8080/"
        },
        "id": "d7JTzQniPZsg",
        "outputId": "0427b977-fb1e-4b58-c885-267fccfcc6a9"
      },
      "outputs": [
        {
          "data": {
            "text/plain": [
              "(2, 6)"
            ]
          },
          "execution_count": 88,
          "metadata": {},
          "output_type": "execute_result"
        }
      ],
      "source": [
        "X[:, alpha_opt > 0].shape"
      ]
    },
    {
      "cell_type": "markdown",
      "metadata": {
        "id": "VA4rcEt2NwCI"
      },
      "source": [
        "### Optimal weight vector (Primal solution)\n",
        "\n",
        "Find the optimal weight vector $\\mathbf{w}^*$."
      ]
    },
    {
      "cell_type": "code",
      "execution_count": 89,
      "metadata": {
        "colab": {
          "base_uri": "https://localhost:8080/"
        },
        "id": "WbIi8Snu6Qga",
        "outputId": "c49de8ba-2550-488d-90fd-947e9c6f3cd7"
      },
      "outputs": [
        {
          "data": {
            "text/plain": [
              "array([ 2.99998762, -1.00002588])"
            ]
          },
          "execution_count": 89,
          "metadata": {},
          "output_type": "execute_result"
        }
      ],
      "source": [
        "w_opt = X @ Y @ alpha_opt\n",
        "w_opt"
      ]
    },
    {
      "cell_type": "markdown",
      "metadata": {
        "id": "1pRJINcgRAWs"
      },
      "source": [
        "### Decision Boundary\n",
        "\n",
        "Plot the decision boundary along with the supporting hyperplanes. Note where the support vectors lie in this plot."
      ]
    },
    {
      "cell_type": "code",
      "execution_count": 90,
      "metadata": {
        "colab": {
          "base_uri": "https://localhost:8080/",
          "height": 374
        },
        "id": "2YiYiZyZbRUK",
        "outputId": "1e1c9951-f861-4186-9c0c-95f328491688"
      },
      "outputs": [
        {
          "data": {
            "image/png": "[encoded data removed]",
            "text/plain": [
              "<Figure size 432x432 with 1 Axes>"
            ]
          },
          "metadata": {
            "needs_background": "light"
          },
          "output_type": "display_data"
        }
      ],
      "source": [
        "plt.figure(figsize=(6,6))\n",
        "\n",
        "# datapoints\n",
        "color = np.array(['none','green','red'])\n",
        "plt.scatter(X[0],X[1],color=color[y]);\n",
        "\n",
        "# decision boundary\n",
        "x = np.linspace(-5,5)\n",
        "y_ = -w_opt[0] / w_opt[1] * x\n",
        "plt.plot(x,y_, color='b');\n",
        "\n",
        "# support vectors\n",
        "y_ = -w_opt[0] / w_opt[1] * x + 1 / w_opt[1]\n",
        "plt.plot(x, y_, color='g')\n",
        "\n",
        "y_ = -w_opt[0] / w_opt[1] * x - 1 / w_opt[1]\n",
        "plt.plot(x, y_, color='r');\n",
        "plt.grid();"
      ]
    },
    {
      "cell_type": "markdown",
      "metadata": {
        "id": "dsM9fbm_R-Vb"
      },
      "source": [
        "## Soft-margin SVM\n",
        "\n",
        "We now turn to soft-margin SVMs. Adapt the hard-margin code that you have written for the soft-margin problem. The only change you have to make is to introduce an upper bound for $\\boldsymbol{\\alpha}$, which is the hyperparameter $C$.\n"
      ]
    },
    {
      "cell_type": "code",
      "execution_count": 92,
      "metadata": {
        "id": "OXSn3CvMS-iT"
      },
      "outputs": [],
      "source": [
        "#### DATA: DO NOT EDIT THIS CELL ####\n",
        "X = np.array([[1, -3], [1, 0], [4, 1], [3, 7], [0, -2],\n",
        "             [-1, -6], [2, 5], [1, 2], [0, -1], [-1, -4],\n",
        "             [0, 7], [1, 5], [-4, 4], [2, 9], [-2, 2],\n",
        "             [-2, 0], [-3, -2], [-2, -4], [3, 10], [-3, -8],\n",
        "             [0, 0], [2, 7]]).T\n",
        "y = np.array([1, 1, 1, 1, 1, \n",
        "             1, 1, 1, 1, 1,\n",
        "             -1, -1, -1, -1, -1, \n",
        "             -1, -1, -1, -1, -1,\n",
        "              1, 1])"
      ]
    },
    {
      "cell_type": "code",
      "execution_count": 93,
      "metadata": {
        "id": "nC51K_Ys3ZnI"
      },
      "outputs": [],
      "source": [
        "d,n = X.shape"
      ]
    },
    {
      "cell_type": "code",
      "execution_count": 94,
      "metadata": {
        "colab": {
          "base_uri": "https://localhost:8080/",
          "height": 265
        },
        "id": "z186b2k7oYru",
        "outputId": "b46df531-15ea-405b-a0dd-a32bbda477f8"
      },
      "outputs": [
        {
          "data": {
            "image/png": "[encoded data removed]",
            "text/plain": [
              "<Figure size 432x288 with 1 Axes>"
            ]
          },
          "metadata": {
            "needs_background": "light"
          },
          "output_type": "display_data"
        }
      ],
      "source": [
        "plt.scatter(X[0][y == -1],X[1][y == -1],color='r');\n",
        "plt.scatter(X[0][y == 1],X[1][y == 1], color='g');"
      ]
    },
    {
      "cell_type": "code",
      "execution_count": 95,
      "metadata": {
        "colab": {
          "base_uri": "https://localhost:8080/",
          "height": 235
        },
        "id": "hfb3Q1Tfwzdp",
        "outputId": "88464927-05bf-4149-c6f2-e465c5e70f15"
      },
      "outputs": [
        {
          "ename": "IndexError",
          "evalue": "ignored",
          "output_type": "error",
          "traceback": [
            "\u001b[0;31m---------------------------------------------------------------------------\u001b[0m",
            "\u001b[0;31mIndexError\u001b[0m                                Traceback (most recent call last)",
            "\u001b[0;32m<ipython-input-95-7cac84b3bf01>\u001b[0m in \u001b[0;36m<module>\u001b[0;34m\u001b[0m\n\u001b[1;32m      4\u001b[0m \u001b[0mi\u001b[0m \u001b[0;34m=\u001b[0m \u001b[0;36m0\u001b[0m\u001b[0;34m\u001b[0m\u001b[0;34m\u001b[0m\u001b[0m\n\u001b[1;32m      5\u001b[0m \u001b[0;32mwhile\u001b[0m \u001b[0;32mnot\u001b[0m \u001b[0mnp\u001b[0m\u001b[0;34m.\u001b[0m\u001b[0mall\u001b[0m\u001b[0;34m(\u001b[0m\u001b[0mw\u001b[0m \u001b[0;34m@\u001b[0m \u001b[0mX\u001b[0m \u001b[0;34m*\u001b[0m \u001b[0my\u001b[0m \u001b[0;34m>\u001b[0m \u001b[0;36m0\u001b[0m\u001b[0;34m)\u001b[0m\u001b[0;34m:\u001b[0m\u001b[0;34m\u001b[0m\u001b[0;34m\u001b[0m\u001b[0m\n\u001b[0;32m----> 6\u001b[0;31m   \u001b[0;32mif\u001b[0m\u001b[0;34m(\u001b[0m\u001b[0mX\u001b[0m\u001b[0;34m[\u001b[0m\u001b[0;34m:\u001b[0m\u001b[0;34m,\u001b[0m\u001b[0mi\u001b[0m\u001b[0;34m]\u001b[0m \u001b[0;34m@\u001b[0m \u001b[0mw\u001b[0m \u001b[0;34m*\u001b[0m \u001b[0my\u001b[0m\u001b[0;34m[\u001b[0m\u001b[0mi\u001b[0m\u001b[0;34m]\u001b[0m \u001b[0;34m<=\u001b[0m \u001b[0;36m0\u001b[0m\u001b[0;34m)\u001b[0m\u001b[0;34m:\u001b[0m\u001b[0;34m\u001b[0m\u001b[0;34m\u001b[0m\u001b[0m\n\u001b[0m\u001b[1;32m      7\u001b[0m     \u001b[0mw\u001b[0m \u001b[0;34m+=\u001b[0m  \u001b[0mX\u001b[0m\u001b[0;34m[\u001b[0m\u001b[0;34m:\u001b[0m\u001b[0;34m,\u001b[0m\u001b[0mi\u001b[0m\u001b[0;34m]\u001b[0m \u001b[0;34m*\u001b[0m \u001b[0my\u001b[0m\u001b[0;34m[\u001b[0m\u001b[0mi\u001b[0m\u001b[0;34m]\u001b[0m\u001b[0;34m\u001b[0m\u001b[0;34m\u001b[0m\u001b[0m\n\u001b[1;32m      8\u001b[0m   \u001b[0mi\u001b[0m \u001b[0;34m+=\u001b[0m \u001b[0;36m1\u001b[0m\u001b[0;34m\u001b[0m\u001b[0;34m\u001b[0m\u001b[0m\n",
            "\u001b[0;31mIndexError\u001b[0m: index 22 is out of bounds for axis 1 with size 22"
          ]
        }
      ],
      "source": [
        "# linear separability?\n",
        "\n",
        "w = np.zeros(d)\n",
        "i = 0\n",
        "while not np.all(w @ X * y > 0):\n",
        "  if(X[:,i] @ w * y[i] <= 0):\n",
        "    w +=  X[:,i] * y[i]\n",
        "  i += 1\n",
        "w\n",
        "\n",
        "#  no."
      ]
    },
    {
      "cell_type": "markdown",
      "metadata": {
        "id": "1fngF_sW-jKD"
      },
      "source": [
        "### Relationship between $C$ and margin\n",
        "\n",
        "Plot the decision boundary and the supporting hyperplane for the following values of $C$.\n",
        "\n",
        "(1) $C = 0.01$\n",
        "\n",
        "(2) $C = 0.1$\n",
        "\n",
        "(3) $C = 1$\n",
        "\n",
        "(4) $C = 10$\n",
        "\n",
        "Plot all of them in a $2 \\times 2$ subplot. Study the tradeoff between the following quantities:\n",
        "\n",
        "(1) Width of the margin.\n",
        "\n",
        "(2) Number of points that lie within the margin or on the wrong side. This is often called **margin violation**.\n"
      ]
    },
    {
      "cell_type": "code",
      "execution_count": 113,
      "metadata": {
        "id": "GrEoGvhB5GM0"
      },
      "outputs": [],
      "source": [
        "def plot(X, y, w_opt, C):\n",
        "  # datapoints\n",
        "  color = np.array(['none','green','red'])\n",
        "  plt.scatter(X[0],X[1],color=color[y]);\n",
        "\n",
        "  # decision boundary\n",
        "  x = np.linspace(-5,5)\n",
        "  y_ = -w_opt[0] / w_opt[1] * x\n",
        "  plt.plot(x,y_, color='b');\n",
        "\n",
        "  # support vectors\n",
        "  y_ = -w_opt[0] / w_opt[1] * x + 1 / w_opt[1]\n",
        "  plt.plot(x, y_, color='g')\n",
        "\n",
        "  y_ = -w_opt[0] / w_opt[1] * x - 1 / w_opt[1]\n",
        "  plt.plot(x, y_, color='r');\n",
        "  plt.grid();\n",
        "  plt.title(f'C: {C}')"
      ]
    },
    {
      "cell_type": "code",
      "execution_count": 115,
      "metadata": {
        "colab": {
          "base_uri": "https://localhost:8080/",
          "height": 607
        },
        "id": "vVKn4mZfTzJu",
        "outputId": "fbfdc8fe-62d6-4c53-918d-c52758f3fdb8"
      },
      "outputs": [
        {
          "data": {
            "image/png": "[encoded data removed]",
            "text/plain": [
              "<Figure size 720x720 with 4 Axes>"
            ]
          },
          "metadata": {
            "needs_background": "light"
          },
          "output_type": "display_data"
        }
      ],
      "source": [
        "Y = np.diag(y)\n",
        "\n",
        "Q = Y.T @ X.T @ X @ Y\n",
        "\n",
        "def f(alpha):\n",
        "  return(0.5 * alpha @ Q @ alpha - alpha.sum())\n",
        "\n",
        "plt.figure(figsize=(10,10))\n",
        "sub_no = 1\n",
        "\n",
        "for C in [0.01, 0.1, 1, 10]:\n",
        "  plt.subplot(2,2, sub_no)\n",
        "  sub_no += 1\n",
        "  alpha_init = np.zeros(n)\n",
        "  res = minimize(f, alpha_init,\n",
        "                bounds=Bounds(0, C))\n",
        "  # res.x is the argmin  of the minimization problem\n",
        "  alpha_opt = res['x']\n",
        "  # print(alpha_opt)\n",
        "  w_opt = X @ Y @ alpha_opt\n",
        "  plot(X, y, w_opt, C)"
      ]
    },
    {
      "cell_type": "markdown",
      "metadata": {
        "id": "LAHR_IChAq4f"
      },
      "source": [
        "### Support vectors\n",
        "\n",
        "For $C = 10$, study the number of support vectors that the model has."
      ]
    },
    {
      "cell_type": "code",
      "execution_count": 118,
      "metadata": {
        "colab": {
          "base_uri": "https://localhost:8080/"
        },
        "id": "5GJSg3Zq8fLK",
        "outputId": "3c51aa32-aeca-4b36-e44f-69ddd83123ef"
      },
      "outputs": [
        {
          "data": {
            "text/plain": [
              "(2, 8)"
            ]
          },
          "execution_count": 118,
          "metadata": {},
          "output_type": "execute_result"
        }
      ],
      "source": [
        "X[:, alpha_opt > 0].shape"
      ]
    },
    {
      "cell_type": "code",
      "execution_count": 117,
      "metadata": {
        "colab": {
          "base_uri": "https://localhost:8080/"
        },
        "id": "HAnccH_-CRqA",
        "outputId": "5a5b1799-dbc6-4233-b360-d2500406b094"
      },
      "outputs": [
        {
          "data": {
            "text/plain": [
              "array([[ 2,  1,  0, -1,  3, -3,  0,  2],\n",
              "       [ 5,  2, -1, -4, 10, -8,  0,  7]])"
            ]
          },
          "execution_count": 117,
          "metadata": {},
          "output_type": "execute_result"
        }
      ],
      "source": [
        "X[:, alpha_opt > 0]"
      ]
    }
  ],
  "metadata": {
    "colab": {
      "provenance": []
    },
    "kernelspec": {
      "display_name": "Python 3",
      "name": "python3"
    },
    "language_info": {
      "name": "python"
    }
  },
  "nbformat": 4,
  "nbformat_minor": 0
}
