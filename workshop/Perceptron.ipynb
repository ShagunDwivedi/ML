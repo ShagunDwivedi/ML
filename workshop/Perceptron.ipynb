{
  "nbformat": 4,
  "nbformat_minor": 0,
  "metadata": {
    "colab": {
      "provenance": []
    },
    "kernelspec": {
      "name": "python3",
      "display_name": "Python 3"
    },
    "language_info": {
      "name": "python"
    }
  },
  "cells": [
    {
      "cell_type": "code",
      "execution_count": null,
      "metadata": {
        "id": "1NnL1DyylXQ5"
      },
      "outputs": [],
      "source": []
    },
    {
      "cell_type": "code",
      "execution_count": 10,
      "metadata": {
        "id": "3TDibK0Yrxm_"
      },
      "outputs": [],
      "source": [
        "import numpy as np\n",
        "import matplotlib.pyplot as plt"
      ]
    },
    {
      "cell_type": "markdown",
      "source": [
        "## Dataset\n",
        "\n"
      ],
      "metadata": {
        "id": "XJKrscLo9qwH"
      }
    },
    {
      "cell_type": "code",
      "source": [
        "from sklearn.datasets import make_classification\n",
        "X, y = make_classification(n_samples=50, n_features=2, n_informative = 2, n_redundant = 0, n_clusters_per_class = 1, flip_y = 0, class_sep = 3, random_state=20)"
      ],
      "metadata": {
        "id": "d_H2VRQNsLly"
      },
      "execution_count": 113,
      "outputs": []
    },
    {
      "cell_type": "markdown",
      "source": [
        "## 1\n",
        "How many samples are there in the dataset?\n"
      ],
      "metadata": {
        "id": "VAONMkaU91v7"
      }
    },
    {
      "cell_type": "code",
      "source": [
        "X.shape[0]"
      ],
      "metadata": {
        "id": "WaLhumdSko3g",
        "colab": {
          "base_uri": "https://localhost:8080/"
        },
        "outputId": "35834cb2-c1a2-44f6-f450-1e8711fc8f8d"
      },
      "execution_count": 25,
      "outputs": [
        {
          "output_type": "execute_result",
          "data": {
            "text/plain": [
              "50"
            ]
          },
          "metadata": {},
          "execution_count": 25
        }
      ]
    },
    {
      "cell_type": "markdown",
      "source": [
        "## 2\n",
        "\n",
        "How many features are there in the dataset?\n"
      ],
      "metadata": {
        "id": "ozjMS6e_91y3"
      }
    },
    {
      "cell_type": "code",
      "source": [
        "X.shape[1]"
      ],
      "metadata": {
        "colab": {
          "base_uri": "https://localhost:8080/"
        },
        "id": "AruB-6fkx4UV",
        "outputId": "b9b440dd-df93-4ecb-e907-419cbec2486a"
      },
      "execution_count": 26,
      "outputs": [
        {
          "output_type": "execute_result",
          "data": {
            "text/plain": [
              "2"
            ]
          },
          "metadata": {},
          "execution_count": 26
        }
      ]
    },
    {
      "cell_type": "markdown",
      "source": [
        "## 3\n",
        "In the target vector $y$, replace all occurrences of 0 with -1. \n",
        "\n"
      ],
      "metadata": {
        "id": "BOuGvyBUrGUH"
      }
    },
    {
      "cell_type": "code",
      "source": [
        "y [y==0] = -1"
      ],
      "metadata": {
        "id": "BxNlSI-1ktMm"
      },
      "execution_count": 114,
      "outputs": []
    },
    {
      "cell_type": "markdown",
      "source": [
        "## 4\n",
        "\n",
        "How many unique classes are there in the target vector?\n"
      ],
      "metadata": {
        "id": "bfVN77a0UKxN"
      }
    },
    {
      "cell_type": "code",
      "source": [
        "np.unique(y)"
      ],
      "metadata": {
        "id": "4UeSyZ1Lkuu4",
        "colab": {
          "base_uri": "https://localhost:8080/"
        },
        "outputId": "fcc80ee3-d519-4951-e670-f404e58c635b"
      },
      "execution_count": 47,
      "outputs": [
        {
          "output_type": "execute_result",
          "data": {
            "text/plain": [
              "array([-1,  1])"
            ]
          },
          "metadata": {},
          "execution_count": 47
        }
      ]
    },
    {
      "cell_type": "markdown",
      "source": [
        "## 5\n",
        "Plot the data keeping first feature on the x-axis and the second feature on the y-axis. Plot the data points belonging to each class in different colors. Does the data seem linearly separable?"
      ],
      "metadata": {
        "id": "2mjZDVoIqzkJ"
      }
    },
    {
      "cell_type": "code",
      "source": [
        "plt.scatter(X[:,0][y == -1],X[:,1][y == -1]);\n",
        "plt.scatter(X[:,0][y == 1],X[:,1][y== 1]);"
      ],
      "metadata": {
        "id": "PP114fY1kwRG",
        "colab": {
          "base_uri": "https://localhost:8080/",
          "height": 265
        },
        "outputId": "3ff108a1-2d35-42f5-b2fc-38a04fc64f78"
      },
      "execution_count": 29,
      "outputs": [
        {
          "output_type": "display_data",
          "data": {
            "text/plain": [
              "<Figure size 432x288 with 1 Axes>"
            ],
            "image/png": "[encoded data removed]"
          },
          "metadata": {
            "needs_background": "light"
          }
        }
      ]
    },
    {
      "cell_type": "markdown",
      "source": [
        "## 6\n",
        "Initialize w to be a zero vector, with shape equal to the number of features in the data.\n",
        "\n"
      ],
      "metadata": {
        "id": "wBvVzKA-u9YM"
      }
    },
    {
      "cell_type": "code",
      "source": [
        "w = np.zeros(X.shape[1])\n",
        "w"
      ],
      "metadata": {
        "id": "LiKOIWphkyu0",
        "colab": {
          "base_uri": "https://localhost:8080/"
        },
        "outputId": "b0853b62-f1c4-4124-8af2-0043efab3559"
      },
      "execution_count": 51,
      "outputs": [
        {
          "output_type": "execute_result",
          "data": {
            "text/plain": [
              "array([0., 0.])"
            ]
          },
          "metadata": {},
          "execution_count": 51
        }
      ]
    },
    {
      "cell_type": "markdown",
      "source": [
        "## 7 \n",
        "Iterate over each data point $x$ in $X$ one by one (in the same sequence as present in $X$). For each data point, compute the value of $w^Tx$. If $w^Tx \\ge 0$, predict positive class for $x$, else predict the negative class.\n",
        "\n"
      ],
      "metadata": {
        "id": "Mpalp-L_Tw12"
      }
    },
    {
      "cell_type": "code",
      "source": [
        "y_pred = np.array([])\n",
        "for each in X:\n",
        "  y_pred_some = 1 if(w.T@each >= 0) else -1\n",
        "  # print(y_pred_some)\n",
        "  y_pred = np.append(y_pred, [y_pred_some])\n",
        "y_pred"
      ],
      "metadata": {
        "id": "fK6JN6fSk0Rr",
        "colab": {
          "base_uri": "https://localhost:8080/"
        },
        "outputId": "b45f4b5a-a19a-4dbc-891b-0a076c6abc25"
      },
      "execution_count": 43,
      "outputs": [
        {
          "output_type": "execute_result",
          "data": {
            "text/plain": [
              "array([1., 1., 1., 1., 1., 1., 1., 1., 1., 1., 1., 1., 1., 1., 1., 1., 1.,\n",
              "       1., 1., 1., 1., 1., 1., 1., 1., 1., 1., 1., 1., 1., 1., 1., 1., 1.,\n",
              "       1., 1., 1., 1., 1., 1., 1., 1., 1., 1., 1., 1., 1., 1., 1., 1.])"
            ]
          },
          "metadata": {},
          "execution_count": 43
        }
      ]
    },
    {
      "cell_type": "markdown",
      "source": [
        "## 8\n",
        "\n",
        "(In the same code,) If prediction does not match the actual class label for any data point, update the weight vector as per the following update rule:\n",
        "$$w_{new} = w_{old} + xy$$ where $x$ is the data point and $y$ is the actual label of $x$.\n"
      ],
      "metadata": {
        "id": "A8pmQXc9U2pl"
      }
    },
    {
      "cell_type": "code",
      "source": [
        "w = np.zeros(X.shape[1])\n",
        "total_mistakes = 0\n",
        "\n",
        "for i in range(X.shape[0]):\n",
        "  y_pred = 1 if w.T @ X[i] >= 0 else -1\n",
        "  # print(y[i],y_pred)\n",
        "\n",
        "  if(y[i] != y_pred):\n",
        "    w = w - (y_pred*X[i])\n",
        "    total_mistakes += 1\n",
        "\n",
        "w"
      ],
      "metadata": {
        "id": "sW64JVR7k1xs",
        "colab": {
          "base_uri": "https://localhost:8080/"
        },
        "outputId": "eb1f00da-5550-43d7-ec97-be74729be17f"
      },
      "execution_count": 59,
      "outputs": [
        {
          "output_type": "execute_result",
          "data": {
            "text/plain": [
              "array([ 6.08372134, -0.97979197])"
            ]
          },
          "metadata": {},
          "execution_count": 59
        }
      ]
    },
    {
      "cell_type": "markdown",
      "source": [
        "## 9\n",
        "(In the same code,) keep track of the total number of mistakes made by the algorithm."
      ],
      "metadata": {
        "id": "rqxusBe6V3vb"
      }
    },
    {
      "cell_type": "code",
      "source": [
        "total_mistakes"
      ],
      "metadata": {
        "id": "rHQ1Oyp_k3Hs",
        "colab": {
          "base_uri": "https://localhost:8080/"
        },
        "outputId": "ef5b1f19-7db8-453e-deb5-7b322f47f353"
      },
      "execution_count": 53,
      "outputs": [
        {
          "output_type": "execute_result",
          "data": {
            "text/plain": [
              "2"
            ]
          },
          "metadata": {},
          "execution_count": 53
        }
      ]
    },
    {
      "cell_type": "markdown",
      "source": [
        "## 10.\n",
        "So far, we have run only one iteration over the entire data.\n",
        "\n",
        "Run the same for 10 epochs (iterations), but stop if there are no weight updates in an epoch. "
      ],
      "metadata": {
        "id": "BW_E9evkVXoY"
      }
    },
    {
      "cell_type": "code",
      "source": [
        "w = np.zeros(X.shape[1])\n",
        "epochs = 10\n",
        "total_mistakes = np.zeros(epochs).astype('int64')\n",
        "\n",
        "for epoch in range(epochs):\n",
        "  print('Epoch No.: ', epoch)\n",
        "\n",
        "  for i in range(X.shape[0]):\n",
        "    y_pred = 1 if w.T @ X[i] >= 0 else -1\n",
        "    # print(y[i],y_pred)\n",
        "\n",
        "    if(y[i] != y_pred):\n",
        "      w = w - (y_pred*X[i])\n",
        "      total_mistakes[epoch] += 1\n",
        "  print('Mistakes: ',total_mistakes[epoch])\n",
        "  if(epoch !=0 ):\n",
        "    if(total_mistakes[epoch] == 0 or total_mistakes[epoch]==total_mistakes[epoch-1]):\n",
        "      print('No Weight updated','Stopping Iteration',sep='\\n')\n",
        "      break\n",
        "print('\\nTotal Mistakes: ', np.sum(total_mistakes))"
      ],
      "metadata": {
        "id": "gVeeVk3ek5A9",
        "colab": {
          "base_uri": "https://localhost:8080/"
        },
        "outputId": "718b7c87-7337-4abd-cf28-6719067c4cdf"
      },
      "execution_count": 115,
      "outputs": [
        {
          "output_type": "stream",
          "name": "stdout",
          "text": [
            "Epoch No.:  0\n",
            "Mistakes:  2\n",
            "Epoch No.:  1\n",
            "Mistakes:  0\n",
            "No Weight updated\n",
            "Stopping Iteration\n",
            "\n",
            "Total Mistakes:  2\n"
          ]
        }
      ]
    },
    {
      "cell_type": "markdown",
      "source": [
        "## 11\n",
        "\n",
        "Plot the vector w and the decision boundary thus obtained.\n"
      ],
      "metadata": {
        "id": "3zs84_zyUMZG"
      }
    },
    {
      "cell_type": "code",
      "source": [
        "plt.scatter(X[:,0][y == -1],X[:,1][y == -1]);\n",
        "plt.scatter(X[:,0][y == 1],X[:,1][y== 1]);\n",
        "\n",
        "plt.quiver(0,0, w[0], w[1], scale = 35, color = 'g');\n",
        "plt.quiver(0, 0, -w[1], w[0], scale=10, color = 'y', headaxislength=0,\n",
        "           headlength=0)\n",
        "plt.quiver(0, 0, w[1], -w[0], scale=10, color = 'y', headaxislength=0,\n",
        "           headlength=0)\n",
        "plt.ylim(-7,7)\n",
        "plt.grid()"
      ],
      "metadata": {
        "id": "oqhetLzMk8TJ",
        "colab": {
          "base_uri": "https://localhost:8080/",
          "height": 265
        },
        "outputId": "6bcf15f9-86fe-40e9-f215-3b0fb2d5c355"
      },
      "execution_count": 98,
      "outputs": [
        {
          "output_type": "display_data",
          "data": {
            "text/plain": [
              "<Figure size 432x288 with 1 Axes>"
            ],
            "image/png": "[encoded data removed]"
          },
          "metadata": {
            "needs_background": "light"
          }
        }
      ]
    },
    {
      "cell_type": "markdown",
      "source": [
        "## 12\n",
        "What is the value of loss using the weight vector obtained earlier?  \n"
      ],
      "metadata": {
        "id": "8jRORev-U_AQ"
      }
    },
    {
      "cell_type": "code",
      "source": [
        "loss = 0\n",
        "\n",
        "y_pred = np.array([])\n",
        "for each in X:\n",
        "  y_pred_some = 1 if(w.T@each >= 0) else -1\n",
        "  # print(y_pred_some)\n",
        "  y_pred = np.append(y_pred, [y_pred_some])\n",
        "\n",
        "for i in range(len(y)):\n",
        "  if(y[i] != y_pred[i]):\n",
        "    loss+=1\n",
        "loss"
      ],
      "metadata": {
        "id": "4so01KGRk90S",
        "colab": {
          "base_uri": "https://localhost:8080/"
        },
        "outputId": "3fc503dd-d40d-45f3-aad2-d41f4fc299c5"
      },
      "execution_count": 90,
      "outputs": [
        {
          "output_type": "execute_result",
          "data": {
            "text/plain": [
              "0"
            ]
          },
          "metadata": {},
          "execution_count": 90
        }
      ]
    },
    {
      "cell_type": "markdown",
      "source": [
        "# Non-linearly separable case"
      ],
      "metadata": {
        "id": "LgY3CUuwaFRI"
      }
    },
    {
      "cell_type": "markdown",
      "source": [
        "## 13\n",
        "Now use a data set that is not linearly separable. Replace occurrences of 0 with -1 and visualize.\n",
        "\n"
      ],
      "metadata": {
        "id": "6Mv5kTYtVZ39"
      }
    },
    {
      "cell_type": "code",
      "source": [
        "from sklearn.datasets import make_classification\n",
        "X, y = make_classification(n_samples=50, n_features=2, n_informative = 2, n_redundant = 0, n_clusters_per_class = 1, flip_y = 0.1, class_sep = 2, random_state=20)"
      ],
      "metadata": {
        "id": "27pznw-oVeFq"
      },
      "execution_count": 118,
      "outputs": []
    },
    {
      "cell_type": "code",
      "source": [
        "y [y==0] = -1"
      ],
      "metadata": {
        "id": "FL5Hj8dYlGbQ"
      },
      "execution_count": 119,
      "outputs": []
    },
    {
      "cell_type": "code",
      "source": [
        "plt.scatter(X[:,0][y == -1],X[:,1][y == -1]);\n",
        "plt.scatter(X[:,0][y == 1],X[:,1][y== 1]);"
      ],
      "metadata": {
        "colab": {
          "base_uri": "https://localhost:8080/",
          "height": 265
        },
        "id": "hJ6GkjhMA9eC",
        "outputId": "dc2e0e3f-2bae-4e58-9fdb-34849a677be8"
      },
      "execution_count": 101,
      "outputs": [
        {
          "output_type": "display_data",
          "data": {
            "text/plain": [
              "<Figure size 432x288 with 1 Axes>"
            ],
            "image/png": "[encoded data removed]"
          },
          "metadata": {
            "needs_background": "light"
          }
        }
      ]
    },
    {
      "cell_type": "markdown",
      "source": [
        "## 14\n",
        "\n",
        "Apply the Perceptron code again. \n",
        "\n",
        "What is the number of weight updates performed in each epoch?\n"
      ],
      "metadata": {
        "id": "jLlsj651cjtm"
      }
    },
    {
      "cell_type": "code",
      "source": [
        "w = np.zeros(X.shape[1])\n",
        "epochs = 10\n",
        "total_mistakes = np.zeros(epochs).astype('int64')\n",
        "\n",
        "for epoch in range(epochs):\n",
        "  print('Epoch No.: ', epoch)\n",
        "\n",
        "  for i in range(X.shape[0]):\n",
        "    y_pred = 1 if w.T @ X[i] >= 0 else -1\n",
        "    # print(y[i],y_pred)\n",
        "\n",
        "    if(y[i] != y_pred):\n",
        "      w = w - (y_pred*X[i])\n",
        "      total_mistakes[epoch] += 1\n",
        "  print('Mistakes: ',total_mistakes[epoch])\n",
        "  if(epoch !=0 ):\n",
        "    if(total_mistakes[epoch] == 0 or total_mistakes[epoch]==total_mistakes[epoch-1]):\n",
        "      print('No Weight updated','Stopping Iteration',sep='\\n')\n",
        "      break\n",
        "print('\\nTotal Mistakes: ', np.sum(total_mistakes))"
      ],
      "metadata": {
        "id": "iwR77G-HlFx_",
        "colab": {
          "base_uri": "https://localhost:8080/"
        },
        "outputId": "74f9a0f2-722e-4cde-da21-6dee3c73bc91"
      },
      "execution_count": 120,
      "outputs": [
        {
          "output_type": "stream",
          "name": "stdout",
          "text": [
            "Epoch No.:  0\n",
            "Mistakes:  13\n",
            "Epoch No.:  1\n",
            "Mistakes:  11\n",
            "Epoch No.:  2\n",
            "Mistakes:  12\n",
            "Epoch No.:  3\n",
            "Mistakes:  11\n",
            "Epoch No.:  4\n",
            "Mistakes:  11\n",
            "No Weight updated\n",
            "Stopping Iteration\n",
            "\n",
            "Total Mistakes:  58\n"
          ]
        }
      ]
    },
    {
      "cell_type": "code",
      "source": [
        "plt.scatter(X[:,0][y == -1],X[:,1][y == -1]);\n",
        "plt.scatter(X[:,0][y == 1],X[:,1][y== 1]);\n",
        "\n",
        "plt.quiver(0,0, w[0], w[1], scale = 35, color = 'g');\n",
        "plt.quiver(0, 0, -w[1], w[0], scale=5, color = 'y', headaxislength=0,\n",
        "           headlength=0)\n",
        "plt.quiver(0, 0, w[1], -w[0], scale=5, color = 'y', headaxislength=0,\n",
        "           headlength=0)\n",
        "plt.ylim(-6,6)\n",
        "plt.grid()"
      ],
      "metadata": {
        "colab": {
          "base_uri": "https://localhost:8080/",
          "height": 269
        },
        "id": "U7BdQA1lBnGS",
        "outputId": "f2b7318d-c0e5-4058-c9b9-72bfcc484da0"
      },
      "execution_count": 121,
      "outputs": [
        {
          "output_type": "display_data",
          "data": {
            "text/plain": [
              "<Figure size 432x288 with 1 Axes>"
            ],
            "image/png": "[encoded data removed]"
          },
          "metadata": {
            "needs_background": "light"
          }
        }
      ]
    },
    {
      "cell_type": "code",
      "source": [
        "loss = 0\n",
        "\n",
        "y_pred = np.array([])\n",
        "for each in X:\n",
        "  y_pred_some = 1 if(w.T@each >= 0) else -1\n",
        "  # print(y_pred_some)\n",
        "  y_pred = np.append(y_pred, [y_pred_some])\n",
        "\n",
        "for i in range(len(y)):\n",
        "  if(y[i] != y_pred[i]):\n",
        "    loss+=1\n",
        "loss"
      ],
      "metadata": {
        "id": "13TYH5xpCSA6",
        "outputId": "29f55051-06de-4519-9690-d5dcc1e8f3aa",
        "colab": {
          "base_uri": "https://localhost:8080/"
        }
      },
      "execution_count": 122,
      "outputs": [
        {
          "output_type": "execute_result",
          "data": {
            "text/plain": [
              "4"
            ]
          },
          "metadata": {},
          "execution_count": 122
        }
      ]
    }
  ]
}